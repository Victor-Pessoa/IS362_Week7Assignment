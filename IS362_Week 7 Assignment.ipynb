{
 "cells": [
  {
   "cell_type": "markdown",
   "id": "d79ab26d",
   "metadata": {},
   "source": [
    "# Week 7 Assignment\n",
    "\n",
    "## Data Collection\n",
    "\n",
    "    # Movies:\n",
    "        Dune (2022)\n",
    "        Spider-Man: No Way Home (2021)\n",
    "        The Matrix Resurrections (2021)\n",
    "        The French Dispatch (2021)\n",
    "        A Quiet Place Part II (2020)\n",
    "        Black Widow (2021)\n",
    "\n",
    "    # Friends:\n",
    "        Alice\n",
    "        Bob\n",
    "        Charlie\n",
    "        Dave\n",
    "        Eve"
   ]
  },
  {
   "cell_type": "code",
   "execution_count": 1,
   "id": "86fab0f0",
   "metadata": {},
   "outputs": [],
   "source": [
    "import pandas as pd\n",
    "df = pd.read_csv('C:\\\\Users\\\\Victor Pessoa\\\\Desktop\\\\IS162_Week 7\\\\movie_ratings.csv')\n"
   ]
  },
  {
   "cell_type": "markdown",
   "id": "2eaf66a9",
   "metadata": {},
   "source": [
    "### Now to calculate and display the average ratings for each user and each movie:"
   ]
  },
  {
   "cell_type": "code",
   "execution_count": 3,
   "id": "50d0d273",
   "metadata": {},
   "outputs": [],
   "source": [
    "numeric_df = df.select_dtypes(include=[float, int])\n",
    "\n",
    "user_avg = numeric_df.mean(axis=1)\n",
    "movie_avg = numeric_df.mean(axis=0)"
   ]
  },
  {
   "cell_type": "markdown",
   "id": "f0ef8c34",
   "metadata": {},
   "source": [
    "### Now I will create a new dataframe with normalized ratings for each user:"
   ]
  },
  {
   "cell_type": "code",
   "execution_count": 5,
   "id": "15ba2ef1",
   "metadata": {},
   "outputs": [],
   "source": [
    "df_normalized = (numeric_df.sub(numeric_df.min(axis=1), axis=0)).div((numeric_df.max(axis=1) - numeric_df.min(axis=1)), axis=0)"
   ]
  },
  {
   "cell_type": "markdown",
   "id": "819df21d",
   "metadata": {},
   "source": [
    "### To calculate and display the average normalized ratings for each user and movie:"
   ]
  },
  {
   "cell_type": "code",
   "execution_count": 6,
   "id": "3d4b4c0b",
   "metadata": {},
   "outputs": [
    {
     "name": "stdout",
     "output_type": "stream",
     "text": [
      "Average Normalized Ratings per User:\n",
      " 0    0.400000\n",
      "1    0.500000\n",
      "2    0.375000\n",
      "3    0.333333\n",
      "4    0.266667\n",
      "dtype: float64\n",
      "\n",
      "Average Normalized Ratings per Movie:\n",
      " Dune (2022)                        0.383333\n",
      "Spider-Man: No Way Home (2021)     0.437500\n",
      "The Matrix Resurrections (2021)    0.083333\n",
      "The French Dispatch (2021)         0.383333\n",
      "A Quiet Place Part II (2020)       0.500000\n",
      "Black Widow (2021)                 0.466667\n",
      "dtype: float64\n"
     ]
    }
   ],
   "source": [
    "normalized_user_avg = df_normalized.mean(axis=1)\n",
    "normalized_movie_avg = df_normalized.mean(axis=0)\n",
    "print(\"Average Normalized Ratings per User:\\n\", normalized_user_avg)\n",
    "print(\"\\nAverage Normalized Ratings per Movie:\\n\", normalized_movie_avg)"
   ]
  },
  {
   "cell_type": "markdown",
   "id": "ba1a0d07",
   "metadata": {},
   "source": [
    "## Conclusion:\n",
    "#### What's Normalized Ratings?\n",
    "    We changed movie scores to fit between 0 and 1. This helps compare scores from different people.\n",
    "\n",
    "#### Good Points:\n",
    "    Same Scale: All scores are between 0 and 1. This makes it easier to compare scores.\n",
    "\n",
    "    Shows Preferences: If someone usually gives high scores but gives a movie a '4', it means they liked other movies more. This change shows that.\n",
    "\n",
    "    Easier to Compare: Since scores are now on the same scale, we can compare them easily.\n",
    "\n",
    "#### Not-so-good Points:\n",
    "    Loses Simple Meaning: Before, a '5' meant a movie was great. Now, with scores like 0.8, it's not as clear.\n",
    "\n",
    "    Too Sensitive: If someone rates one movie very differently than others, the change can make it look like a bigger deal than it is.\n",
    "\n",
    "    Hard to Understand: Scores like 0.8 or 0.6 might be hard for some people to understand.\n",
    "\n",
    "##### Final Words:\n",
    "    Changing scores to fit between 0 and 1 has some benefits. It can help see how much people like one movie compared to others. But, it also has some downsides. The new scores might be harder to understand. So, whether we use these changed scores or the original ones depends on what we need."
   ]
  },
  {
   "cell_type": "markdown",
   "id": "c7a36d75",
   "metadata": {},
   "source": [
    "## Standardize Ratings (Extra Credit):"
   ]
  },
  {
   "cell_type": "code",
   "execution_count": 8,
   "id": "e5d25085",
   "metadata": {},
   "outputs": [],
   "source": [
    "df_standardized = (numeric_df.sub(numeric_df.mean(axis=1), axis=0)).div(numeric_df.std(axis=1), axis=0)"
   ]
  },
  {
   "cell_type": "code",
   "execution_count": 9,
   "id": "1798b5da",
   "metadata": {},
   "outputs": [
    {
     "name": "stdout",
     "output_type": "stream",
     "text": [
      "Average Standardized Ratings per User:\n",
      " 0   -1.332268e-16\n",
      "1    0.000000e+00\n",
      "2   -3.700743e-17\n",
      "3    0.000000e+00\n",
      "4    2.220446e-16\n",
      "dtype: float64\n",
      "\n",
      "Average Standardized Ratings per Movie:\n",
      " Dune (2022)                        0.035352\n",
      "Spider-Man: No Way Home (2021)     0.114863\n",
      "The Matrix Resurrections (2021)   -0.654472\n",
      "The French Dispatch (2021)        -0.029637\n",
      "A Quiet Place Part II (2020)       0.300660\n",
      "Black Widow (2021)                 0.185445\n",
      "dtype: float64\n"
     ]
    }
   ],
   "source": [
    "standardized_user_avg = df_standardized.mean(axis=1)\n",
    "standardized_movie_avg = df_standardized.mean(axis=0)\n",
    "print(\"Average Standardized Ratings per User:\\n\", standardized_user_avg)\n",
    "print(\"\\nAverage Standardized Ratings per Movie:\\n\", standardized_movie_avg)"
   ]
  },
  {
   "cell_type": "code",
   "execution_count": null,
   "id": "5c7d43ff",
   "metadata": {},
   "outputs": [],
   "source": []
  }
 ],
 "metadata": {
  "kernelspec": {
   "display_name": "Python 3 (ipykernel)",
   "language": "python",
   "name": "python3"
  },
  "language_info": {
   "codemirror_mode": {
    "name": "ipython",
    "version": 3
   },
   "file_extension": ".py",
   "mimetype": "text/x-python",
   "name": "python",
   "nbconvert_exporter": "python",
   "pygments_lexer": "ipython3",
   "version": "3.9.13"
  }
 },
 "nbformat": 4,
 "nbformat_minor": 5
}
